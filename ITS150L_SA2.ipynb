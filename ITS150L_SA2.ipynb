{
  "cells": [
    {
      "cell_type": "markdown",
      "metadata": {
        "id": "view-in-github",
        "colab_type": "text"
      },
      "source": [
        "<a href=\"https://colab.research.google.com/github/Leonnello/CSS123L-SA2-REAL-ESTATE/blob/main/ITS150L_SA2.ipynb\" target=\"_parent\"><img src=\"https://colab.research.google.com/assets/colab-badge.svg\" alt=\"Open In Colab\"/></a>"
      ]
    },
    {
      "cell_type": "markdown",
      "metadata": {
        "id": "C4n0AeerValU"
      },
      "source": [
        "ITS150L_FOPI01_1Q2425<br>\n",
        "Members:<br>\n",
        "Celina Therese Tabano<br>\n",
        "Noel Allen Elises"
      ]
    },
    {
      "cell_type": "code",
      "execution_count": null,
      "metadata": {
        "id": "uvza1ZF_tGUO"
      },
      "outputs": [],
      "source": [
        "#### Imports\n",
        "import random\n",
        "import os\n",
        "import signal\n",
        "import pickle"
      ]
    },
    {
      "cell_type": "code",
      "execution_count": null,
      "metadata": {
        "id": "Zq8F0U-uIxxL"
      },
      "outputs": [],
      "source": [
        "class Process:\n",
        "  position = None\n",
        "\n",
        "  def __init__(self, pid, burst_time, memory_size):\n",
        "    self.pid = pid\n",
        "    self.burst_time = burst_time\n",
        "    self.memory_size = memory_size\n",
        "\n",
        "  # decrease remaining time\n",
        "  def run(self):\n",
        "    self.burst_time -= 1\n",
        "\n",
        "    if self.burst_time == 0:\n",
        "      self.position.isFree = True\n",
        "      self.position = None\n"
      ]
    },
    {
      "cell_type": "code",
      "execution_count": null,
      "metadata": {
        "id": "2tWl_jCjDyub"
      },
      "outputs": [],
      "source": [
        "class MemoryBlock:\n",
        "  def __init__(self, start, end, isFree: bool = True):\n",
        "    self.start = start\n",
        "    self.end = end\n",
        "    self.isFree = isFree\n",
        "\n",
        "  def get_size(self):\n",
        "    return self.end - self.start + 1"
      ]
    },
    {
      "cell_type": "code",
      "execution_count": null,
      "metadata": {
        "id": "DPVrhBJnE5wL"
      },
      "outputs": [],
      "source": [
        "##### GLOBAL VARIABLES\n",
        "# counter for pid\n",
        "pid_count = 1\n",
        "\n",
        "# array of all process to be scheduled\n",
        "current_processes = []\n",
        "\n",
        "# array for all memory blocks\n",
        "memory_blocks = []\n",
        "\n",
        "time = 0"
      ]
    },
    {
      "cell_type": "code",
      "execution_count": null,
      "metadata": {
        "id": "bqzHRYZiIblg"
      },
      "outputs": [],
      "source": [
        "def generate_blocks(size : int):\n",
        "  # init rng\n",
        "  random.seed()\n",
        "\n",
        "  # select random num of blocks\n",
        "  n_blocks = 0\n",
        "  if size <= 500:\n",
        "    n_blocks = random.randrange(3, 10)\n",
        "  else:\n",
        "    n_blocks = random.randrange(4, round(size/100))\n",
        "\n",
        "  end_pos = random.sample(range(1,size), n_blocks)\n",
        "  end_pos.sort()\n",
        "\n",
        "  print(end_pos)\n",
        "\n",
        "  # divide and create blocks\n",
        "  for i in range(len(end_pos)):\n",
        "    if i == 0:\n",
        "      memory_blocks.append(MemoryBlock(0, end_pos[i]))\n",
        "    elif i == len(end_pos) - 1:\n",
        "      memory_blocks.append(MemoryBlock(memory_blocks[i-1].end + 1, size))\n",
        "    else:\n",
        "      memory_blocks.append(MemoryBlock(memory_blocks[i-1].end + 1, end_pos[i]))\n"
      ]
    },
    {
      "cell_type": "code",
      "execution_count": null,
      "metadata": {
        "id": "meqqsfrfGv-8"
      },
      "outputs": [],
      "source": [
        "# function to input new jobs to queue\n",
        "# prolly on a different process/fork?\n",
        "def new_job():\n",
        "  global pid_count\n",
        "  while True:\n",
        "    try:\n",
        "      burst_time = int(input(f\"Enter process#{pid_count} burst time: \"))\n",
        "      memory_size = int(input(f\"Enter process#{pid_count} memory size: \"))\n",
        "      current_processes.append(Process(pid_count,burst_time, memory_size))\n",
        "      pid_count += 1\n",
        "      break\n",
        "    except ValueError:\n",
        "      print(\"Invalid input. Enter whole numbers only.\")"
      ]
    },
    {
      "cell_type": "code",
      "execution_count": null,
      "metadata": {
        "id": "YkJY8L0rmSTc"
      },
      "outputs": [],
      "source": [
        "def pass_time(processes):\n",
        "  global time\n",
        "  time += 1\n",
        "\n",
        "  # pass time for each process that is already fitted in memory block\n",
        "  for n in range(len(processes)):\n",
        "    if processes[n].position != None:\n",
        "      processes[n].run()\n",
        "\n",
        "    if processes[n].burst_time > 0:\n",
        "      processes[n] = None\n"
      ]
    },
    {
      "cell_type": "code",
      "execution_count": null,
      "metadata": {
        "id": "frAK6_R-ZQI5"
      },
      "outputs": [],
      "source": [
        "# function to send current_processes for sjf scheduling\n",
        "# run this whenever all the processes in a sjf batch is complete?\n",
        "def sjf_scheduling(processes):\n",
        "  global time\n",
        "  # clear array for next batch\n",
        "  global current_processes\n",
        "  current_processes.clear()\n",
        "\n",
        "  # sort processes based on Burst Time\n",
        "  processes = sorted(processes, key=lambda process: process.burst_time)\n",
        "\n",
        "  # get total wt and tat\n",
        "  # TO REMOVE LATER\n",
        "  wt,  tat = [], []\n",
        "  total_wt, total_tat = 0, 0\n",
        "\n",
        "  for i in range(len(processes)):\n",
        "    if processes[i] == None:\n",
        "      continue\n",
        "\n",
        "    while not best_fit(processes[i]):\n",
        "    # if can't fit, pass time till there is available hole\n",
        "      pass_time(processes)\n",
        "      # compact()\n",
        "      coalesce()\n",
        "\n",
        "    # pass time every successful fit\n",
        "    pass_time(processes)\n",
        "\n",
        "    # REMOVE Later, dupp\n",
        "    if processes[i] == None:\n",
        "      continue\n",
        "\n",
        "    #repaint()\n",
        "\n",
        "    #compact()\n",
        "\n",
        "    #coalesce()\n",
        "\n",
        "    if (i == 0):\n",
        "      wt.append(0)\n",
        "      tat.append( processes[i].burst_time)\n",
        "    else:\n",
        "      wt.append( processes[i-1].burst_time + wt[i-1] )\n",
        "      tat.append( processes[i].burst_time + wt[i] )\n",
        "\n",
        "    total_wt += wt[i]\n",
        "    total_tat += tat[i]\n",
        "\n",
        "  for i in range(len(processes)):\n",
        "    if processes[i] == None:\n",
        "      continue\n",
        "    print(f\"PID {processes[i].pid}: {processes[i].burst_time}ms {processes[i].memory_size}Kb\")\n",
        "\n",
        "  print(\"Average WT: \", total_wt/len(processes))\n",
        "  print(\"Average TAT: \", total_tat/len(processes))"
      ]
    },
    {
      "cell_type": "code",
      "execution_count": null,
      "metadata": {
        "id": "CdWRLn9LZJPy"
      },
      "outputs": [],
      "source": [
        "def best_fit(job_to_fit) -> bool:\n",
        "  global memory_blocks\n",
        "  difference = None\n",
        "  block_index = -1\n",
        "\n",
        "  for i in range(len(memory_blocks)):\n",
        "    if memory_blocks[i].isFree and memory_blocks[i].get_size() >= job_to_fit.memory_size:\n",
        "      current_diff = memory_blocks[i].get_size() - job_to_fit.memory_size\n",
        "      if difference == None or current_diff < difference:\n",
        "        difference = current_diff\n",
        "        block_index = i\n",
        "\n",
        "  # if fit is found\n",
        "  if block_index != -1:\n",
        "    # place job in the memory_block\n",
        "    selected_block = memory_blocks[block_index]\n",
        "    job_to_fit.position = selected_block\n",
        "    selected_block.isFree = False\n",
        "\n",
        "    end_pos = selected_block.end\n",
        "    selected_block.end = selected_block.start + job_to_fit.memory_size - 1\n",
        "\n",
        "    # create block for the remaining hole\n",
        "    if difference != None and difference > 0:\n",
        "      memory_blocks.append(MemoryBlock(selected_block.end + 1, end_pos))\n",
        "\n",
        "    return True\n",
        "\n",
        "  return False\n"
      ]
    },
    {
      "cell_type": "code",
      "execution_count": null,
      "metadata": {
        "id": "ZnR_DWdXImgN"
      },
      "outputs": [],
      "source": [
        "def is_in_array(array, element, *args) -> bool:\n",
        "  for n in range(len(array)):\n",
        "    match args:\n",
        "      case (\"start\",\"end\"):\n",
        "        if array[n].start == element.start and array[n].end == element.end:\n",
        "          return True\n",
        "\n",
        "  return False"
      ]
    },
    {
      "cell_type": "code",
      "execution_count": null,
      "metadata": {
        "id": "zKlNy1D_7svs"
      },
      "outputs": [],
      "source": [
        "# coalesce\n",
        "def coalesce():\n",
        "  global memory_blocks\n",
        "  coalesced_blocks = []\n",
        "\n",
        "  # sort by start #\n",
        "  memory_blocks = sorted(memory_blocks, key=lambda block: block.start)\n",
        "\n",
        "  if len(memory_blocks) == 1:\n",
        "    coalesced_blocks = memory_blocks\n",
        "  else:\n",
        "    prev = None\n",
        "    for i in range(len(memory_blocks) - 1):\n",
        "      current = memory_blocks[i]\n",
        "      next = memory_blocks[i+1]\n",
        "\n",
        "      if prev is not None:\n",
        "        # if previous was merged, update current\n",
        "        if prev.isFree and prev.end == current.end:\n",
        "          current = prev\n",
        "\n",
        "      if current.isFree and next.isFree:\n",
        "        # if prev is current, meaning prev and current will be merged\n",
        "        # delete duplicate from final array\n",
        "        if prev is current:\n",
        "          coalesced_blocks.pop()\n",
        "\n",
        "        current.end = next.end\n",
        "\n",
        "      if not is_in_array(coalesced_blocks, current, \"start\", \"end\"):\n",
        "        coalesced_blocks.append(current)\n",
        "\n",
        "      if i == len(memory_blocks) - 2:\n",
        "        if not is_in_array(coalesced_blocks, next, \"start\", \"end\"):\n",
        "          coalesced_blocks.append(next)\n",
        "\n",
        "      prev = current\n",
        "\n",
        "  memory_blocks = coalesced_blocks.copy()\n"
      ]
    },
    {
      "cell_type": "code",
      "execution_count": null,
      "metadata": {
        "id": "7nJBNY5ditWg"
      },
      "outputs": [],
      "source": [
        "def compact():\n",
        "  #if time&20==0\n",
        "  #place job based on strategy (if has space)\n",
        "  #choose job based on scheduling\n",
        "  #reduce time of chosen job, time++\n",
        "  print('asdf')"
      ]
    },
    {
      "cell_type": "code",
      "execution_count": null,
      "metadata": {
        "colab": {
          "background_save": true,
          "base_uri": "https://localhost:8080/"
        },
        "id": "BeEmmVLvURRq",
        "outputId": "5aac4151-07bf-4391-b569-df03baf45777"
      },
      "outputs": [
        {
          "name": "stdout",
          "output_type": "stream",
          "text": [
            "[15, 19, 79, 255, 261]\n",
            "[15, 19, 79, 255, 261]Average WT:  0.0\n",
            "Average TAT:  0.0\n",
            "Time: 1s\n",
            "[0, 15] True\n",
            "[16, 19] True\n",
            "[20, 39] False\n",
            "[40, 79] True\n",
            "[256, 500] True\n",
            "\n",
            "[80, 255] True"
          ]
        }
      ],
      "source": [
        "def main():\n",
        "  global current_processes, pid_count\n",
        "  global memory_blocks\n",
        "  global time\n",
        "\n",
        "  main_memory_size = 0\n",
        "  # pipe for interprocess comms\n",
        "  pipe_r, pipe_w = os.pipe()\n",
        "\n",
        "  # container to serialize/deserialize data for pipe\n",
        "  data_container = {\"processes\" : current_processes}\n",
        "\n",
        "  while True:\n",
        "    try:\n",
        "      main_memory_size = int(input(\"Enter memory size of the program: \"))\n",
        "      break\n",
        "    except ValueError:\n",
        "      print(\"Invalid input. Enter whole numbers only.\")\n",
        "\n",
        "  generate_blocks(main_memory_size)\n",
        "\n",
        "  pid = os.fork()\n",
        "\n",
        "  if pid == 0:\n",
        "    # child process for the job simulation and execution\n",
        "\n",
        "    # close write\n",
        "    os.close(pipe_w)\n",
        "\n",
        "    # child main process loop\n",
        "    while True:\n",
        "      read = os.read(pipe_r, 4096)\n",
        "      if read:\n",
        "        # deserialize data from pipe\n",
        "        data = pickle.loads(read)\n",
        "        # update current_processes in child process\n",
        "        current_processes = data[\"processes\"]\n",
        "\n",
        "      # maybe start sjf_schedule when there's at least 5 process?\n",
        "      # or just run it whenever it can ig\n",
        "      if len(current_processes) >= 5:\n",
        "        sjf_scheduling(current_processes.copy())\n",
        "\n",
        "        # test display\n",
        "        print(f\"Time: {time}s\")\n",
        "        memory_blocks = sorted(memory_blocks, key=lambda block: block.start)\n",
        "        for i in range(len(memory_blocks)):\n",
        "          print(f\"[{memory_blocks[i].start}, {memory_blocks[i].end}] {memory_blocks[i].isFree}\")\n",
        "\n",
        "      # compact()\n",
        "      # coalesce()\n",
        "      #placeProcess()\n",
        "\n",
        "\n",
        "  elif pid > 0:\n",
        "    # parent process for inputting new jobs real time?\n",
        "\n",
        "    # close read\n",
        "    os.close(pipe_r)\n",
        "\n",
        "    while True:\n",
        "      new_job()\n",
        "\n",
        "      # serialize and pass updated data to child process\n",
        "      serialized_data = pickle.dumps(data_container)\n",
        "      os.write(pipe_w, serialized_data)\n",
        "\n",
        "      user_prompt = input(\"Enter any to continue or 'exit' to quit: \")\n",
        "      if user_prompt.lower() == 'exit':\n",
        "        # siguro add wait for child process here before fully terminating program\n",
        "\n",
        "        print(\"Program exited successfully\")\n",
        "        os.kill(pid, signal.SIGTERM)\n",
        "        break\n",
        "\n",
        "\n",
        "main()"
      ]
    },
    {
      "cell_type": "markdown",
      "metadata": {
        "id": "1fsvX583zYDe"
      },
      "source": [
        "--------------------------------------------------------------------------------"
      ]
    },
    {
      "cell_type": "code",
      "execution_count": null,
      "metadata": {
        "id": "bxihwneb3b4Q"
      },
      "outputs": [],
      "source": [
        "from PIL import Image, ImageDraw, ImageFont\n",
        "from IPython.display import display, clear_output\n",
        "import time"
      ]
    },
    {
      "cell_type": "code",
      "execution_count": null,
      "metadata": {
        "id": "GzgCdeIc5zFw"
      },
      "outputs": [],
      "source": [
        "#part of static() - repaints static visuals\n",
        "def repaintStatic(drawObj):\n",
        "  # Set font (optional, use default if not available)\n",
        "  try:\n",
        "      font = ImageFont.truetype(\"/usr/share/fonts/truetype/dejavu/DejaVuSans-Bold.ttf\", 24)\n",
        "  except IOError:\n",
        "      font = ImageFont.load_default()\n",
        "\n",
        "  # Draw the rectangle (outline only, no fill)\n",
        "  drawObj.rectangle([(50, 50), (1000, 250)], outline=\"black\", width=5)\n",
        "\n",
        "  # Add text/label inside the rectangle\n",
        "  text = \"Memory\"\n",
        "  text_position = (50, 35)  # Position where the text will be placed\n",
        "\n",
        "  # Add text to the image\n",
        "  drawObj.text(text_position, text, fill=\"black\", font=font)"
      ]
    },
    {
      "cell_type": "code",
      "execution_count": null,
      "metadata": {
        "id": "4HQ57h742CFz"
      },
      "outputs": [],
      "source": [
        "memory_blocks.clear()\n",
        "memory_blocks.append(MemoryBlock(0,99))\n",
        "memory_blocks.append(MemoryBlock(100,149))\n",
        "memory_blocks.append(MemoryBlock(150,199))\n",
        "memory_blocks.append(MemoryBlock(200,249, False))\n",
        "memory_blocks.append(MemoryBlock(250,349))\n",
        "memory_blocks.append(MemoryBlock(350,499, False))\n"
      ]
    },
    {
      "cell_type": "code",
      "execution_count": null,
      "metadata": {
        "id": "Pi289b5rirHG"
      },
      "outputs": [],
      "source": [
        "#updates image with the changes in memory_blocks array\n",
        "# canvas init\n",
        "image = Image.new(\"RGB\", (1000, 300), color=\"white\")\n",
        "#create object that contains the canvas\n",
        "drawObj = ImageDraw.Draw(image)\n",
        "def repaint():\n",
        "  global memory_blocks\n",
        "  currentPos = (50, 50)\n",
        "\n",
        "\n",
        "\n",
        "  repaintStatic(drawObj)\n",
        "  #display(image)\n",
        "\n",
        "  for block in memory_blocks:\n",
        "    # print(currentPos)\n",
        "    # print(p2)\n",
        "    # print()\n",
        "    p2 = (currentPos[0] + block.get_size(), 250)\n",
        "\n",
        "    drawObj.rectangle([currentPos, p2], outline=\"blue\", width=2)\n",
        "\n",
        "    #increment pointer with block size\n",
        "    currentPos = (currentPos[0] + block.get_size(), currentPos[1])\n",
        "\n",
        "    clear_output(wait=True)\n",
        "    display(image)\n",
        "    #frame rate\n",
        "    time.sleep(0.5)\n",
        "\n",
        "  print(\"repaint complete.\")"
      ]
    },
    {
      "cell_type": "code",
      "execution_count": null,
      "metadata": {
        "id": "VblKYmEtyjWx"
      },
      "outputs": [],
      "source": [
        "repaint()"
      ]
    },
    {
      "cell_type": "code",
      "execution_count": null,
      "metadata": {
        "id": "qvdiL219DmVr"
      },
      "outputs": [],
      "source": []
    }
  ],
  "metadata": {
    "colab": {
      "provenance": [],
      "include_colab_link": true
    },
    "kernelspec": {
      "display_name": "Python 3",
      "name": "python3"
    },
    "language_info": {
      "name": "python"
    }
  },
  "nbformat": 4,
  "nbformat_minor": 0
}