{
  "nbformat": 4,
  "nbformat_minor": 0,
  "metadata": {
    "colab": {
      "provenance": [],
      "include_colab_link": true
    },
    "kernelspec": {
      "name": "python3",
      "display_name": "Python 3"
    },
    "language_info": {
      "name": "python"
    }
  },
  "cells": [
    {
      "cell_type": "markdown",
      "metadata": {
        "id": "view-in-github",
        "colab_type": "text"
      },
      "source": [
        "<a href=\"https://colab.research.google.com/github/Leonnello/sjf-memory-placement-sim/blob/main/ITS150L_SA2.ipynb\" target=\"_parent\"><img src=\"https://colab.research.google.com/assets/colab-badge.svg\" alt=\"Open In Colab\"/></a>"
      ]
    },
    {
      "cell_type": "markdown",
      "source": [
        "ITS150L_FOPI01_1Q2425<br>\n",
        "Members:<br>\n",
        "Celina Therese Tabano<br>\n",
        "Noel Allen Elises"
      ],
      "metadata": {
        "id": "C4n0AeerValU"
      }
    },
    {
      "cell_type": "code",
      "source": [
        "class Process:\n",
        "  def __init__(self, pid, burst_time, memory_size):\n",
        "    self.pid = pid\n",
        "    self.burst_time = burst_time\n",
        "    self.memory_size = memory_size"
      ],
      "metadata": {
        "id": "Zq8F0U-uIxxL"
      },
      "execution_count": null,
      "outputs": []
    },
    {
      "cell_type": "code",
      "source": [
        "class MemoryBlock:\n",
        "  def __init__(self, start, end, isFree: bool = True):\n",
        "    self.start = start\n",
        "    self.end = end\n",
        "    self.isFree = isFree\n",
        "\n",
        "  def get_size(self):\n",
        "    return self.end - self.start + 1"
      ],
      "metadata": {
        "id": "2tWl_jCjDyub"
      },
      "execution_count": null,
      "outputs": []
    },
    {
      "cell_type": "code",
      "source": [
        "##### GLOBAL VARIABLES\n",
        "# counter for pid\n",
        "pid_count = 1\n",
        "\n",
        "# array of all process to be scheduled\n",
        "current_processes = []\n",
        "\n",
        "# memory size and array for all memory blocks\n",
        "memory_size = 0\n",
        "memory_blocks = []"
      ],
      "metadata": {
        "id": "DPVrhBJnE5wL"
      },
      "execution_count": null,
      "outputs": []
    },
    {
      "cell_type": "code",
      "source": [
        "# function to input new jobs to queue\n",
        "# prolly on a different process/fork?\n",
        "def new_job():\n",
        "  global pid_count\n",
        "  while True:\n",
        "    try:\n",
        "      burst_time = int(input(f\"Enter process#{pid_count} burst time: \"))\n",
        "      memory_size = int(input(f\"Enter process#{pid_count} memory size: \"))\n",
        "      current_processes.append(Process(pid_count,burst_time, memory_size))\n",
        "      pid_count += 1\n",
        "      break\n",
        "    except ValueError:\n",
        "      print(\"Invalid input. Enter whole numbers only.\")"
      ],
      "metadata": {
        "id": "meqqsfrfGv-8"
      },
      "execution_count": null,
      "outputs": []
    },
    {
      "cell_type": "code",
      "source": [
        "# function to send current_processes for sjf scheduling\n",
        "# run this whenever all the processes in a sjf batch is complete?\n",
        "def sjf_scheduling(processes):\n",
        "  # clear array for next batch\n",
        "  global current_processes\n",
        "  current_processes.clear()\n",
        "\n",
        "  # sort processes based on Burst Time\n",
        "  processes = sorted(processes, key=lambda process: process.burst_time)\n",
        "\n",
        "  # get total wt and tat\n",
        "  # TO REMOVE LATER\n",
        "  wt,  tat = [], []\n",
        "  total_wt, total_tat = 0, 0\n",
        "\n",
        "  for i in range(len(processes)):\n",
        "    if (i == 0):\n",
        "      wt.append(0)\n",
        "      tat.append( processes[i].burst_time)\n",
        "    else:\n",
        "      wt.append( processes[i-1].burst_time + wt[i-1] )\n",
        "      tat.append( processes[i].burst_time + wt[i] )\n",
        "\n",
        "    total_wt += wt[i]\n",
        "    total_tat += tat[i]\n",
        "\n",
        "  for i in range(len(processes)):\n",
        "    print(f\"PID {processes[i].pid}: {processes[i].burst_time}ms {processes[i].memory_size}Kb\")\n",
        "\n",
        "  print(\"Average WT: \", total_wt/len(processes))\n",
        "  print(\"Average TAT: \", total_tat/len(processes))"
      ],
      "metadata": {
        "id": "frAK6_R-ZQI5"
      },
      "execution_count": null,
      "outputs": []
    },
    {
      "cell_type": "code",
      "source": [
        "# coalesce\n",
        "def coalesce():\n",
        "  global memory_blocks\n",
        "  coalesced_blocks = []\n",
        "\n",
        "  # sort by start #\n",
        "  memory_blocks = sorted(memory_blocks, key=lambda block: block.start)\n",
        "\n",
        "  print(len(memory_blocks))\n",
        "  if len(memory_blocks) == 1:\n",
        "    coalesced_blocks = memory_blocks\n",
        "  else:\n",
        "    prev = None\n",
        "    for i in range(len(memory_blocks) - 1):\n",
        "      current = memory_blocks[i]\n",
        "      next = memory_blocks[i+1]\n",
        "\n",
        "      if prev is not None:\n",
        "        # if previous was merged, update current\n",
        "        if prev.isFree and prev.end is current.end:\n",
        "          current = prev\n",
        "\n",
        "      if current.isFree and next.isFree:\n",
        "        # if prev is current, meaning prev and current will be merged\n",
        "        # delete duplicate from final array\n",
        "        if prev is current:\n",
        "          coalesced_blocks.pop()\n",
        "\n",
        "        current.end = next.end\n",
        "\n",
        "      coalesced_blocks.append(current)\n",
        "      prev = current\n",
        "\n",
        "  memory_blocks.clear()\n",
        "  memory_blocks = coalesced_blocks\n",
        "\n",
        "  for i in range(len(memory_blocks)):\n",
        "    print(f\"[{memory_blocks[i].start}, {memory_blocks[i].end}] {memory_blocks[i].isFree}\")"
      ],
      "metadata": {
        "id": "zKlNy1D_7svs"
      },
      "execution_count": null,
      "outputs": []
    },
    {
      "cell_type": "code",
      "source": [
        "def main():\n",
        "  global current_processes, pid_count\n",
        "  global memory_blocks\n",
        "  for x in range(5):\n",
        "    new_job()\n",
        "\n",
        "  #current_processes.append(Process(pid_count,40, 40))\n",
        "  #pid_count += 1\n",
        "  #current_processes.append(Process(pid_count,43, 43))\n",
        "  #pid_count += 1\n",
        "  #current_processes.append(Process(pid_count,66, 66))\n",
        "  #pid_count += 1\n",
        "  #current_processes.append(Process(pid_count,50, 50))\n",
        "  #pid_count += 1\n",
        "  #current_processes.append(Process(pid_count,55, 55))\n",
        "  #pid_count += 1\n",
        "\n",
        "  sjf_scheduling(current_processes.copy())\n",
        "\n",
        "  #memory_blocks.append(MemoryBlock(0,99))\n",
        "  #memory_blocks.append(MemoryBlock(100,149))\n",
        "  #memory_blocks.append(MemoryBlock(150,199))\n",
        "  #memory_blocks.append(MemoryBlock(200,249, False))\n",
        "  #memory_blocks.append(MemoryBlock(250,350))\n",
        "\n",
        "  #coalesce()\n",
        "main()"
      ],
      "metadata": {
        "colab": {
          "base_uri": "https://localhost:8080/"
        },
        "id": "BeEmmVLvURRq",
        "outputId": "721e7541-54ad-48ef-893e-aedb21dcfa27"
      },
      "execution_count": null,
      "outputs": [
        {
          "output_type": "stream",
          "name": "stdout",
          "text": [
            "Enter process#1 burst time: 40\n",
            "Enter process#1 memory size: 250\n",
            "Enter process#2 burst time: 60\n",
            "Enter process#2 memory size: 341\n",
            "Enter process#3 burst time: 55\n",
            "Enter process#3 memory size: 42\n",
            "Enter process#4 burst time: 95\n",
            "Enter process#4 memory size: 42\n",
            "Enter process#5 burst time: 68\n",
            "Enter process#5 memory size: 32\n",
            "PID 1: 40ms 250Kb\n",
            "PID 3: 55ms 42Kb\n",
            "PID 2: 60ms 341Kb\n",
            "PID 5: 68ms 32Kb\n",
            "PID 4: 95ms 42Kb\n",
            "Average WT:  102.6\n",
            "Average TAT:  166.2\n"
          ]
        }
      ]
    },
    {
      "cell_type": "code",
      "source": [],
      "metadata": {
        "id": "Pi289b5rirHG"
      },
      "execution_count": null,
      "outputs": []
    }
  ]
}